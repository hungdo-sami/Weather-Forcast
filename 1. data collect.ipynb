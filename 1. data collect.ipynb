{
 "cells": [
  {
   "cell_type": "code",
   "execution_count": 3,
   "metadata": {},
   "outputs": [
    {
     "name": "stdout",
     "output_type": "stream",
     "text": [
      "Dữ liệu phần 1 đã được tải về thành công và lưu vào 'nasa_power_data_part1.csv'.\n",
      "Dữ liệu phần 2 đã được tải về thành công và lưu vào 'nasa_power_data_part2.csv'.\n"
     ]
    }
   ],
   "source": [
    "import requests\n",
    "# URL của API\n",
    "url = \"https://power.larc.nasa.gov/api/temporal/daily/point\"\n",
    "# Các tham số cho các yêu cầu API\n",
    "params_list = [\n",
    "    {\n",
    "        \"start\": \"20000101\",\n",
    "        \"end\": \"20240610\",\n",
    "        \"latitude\": 21,\n",
    "        \"longitude\": 105.84,\n",
    "        \"community\": \"AG\",\n",
    "        \"parameters\": (\n",
    "            \"ALLSKY_SFC_SW_DWN,CLRSKY_SFC_SW_DWN,ALLSKY_SFC_SW_DNI,ALLSKY_SFC_SW_DIFF,\"\n",
    "            \"TOA_SW_DWN,ALLSKY_SFC_PAR_TOT,CLRSKY_SFC_PAR_TOT,ALLSKY_SFC_UVB,ALLSKY_SFC_UVA,\"\n",
    "            \"ALLSKY_SFC_UV_INDEX,T2M,T2MDEW,T2MWET,TS,T2M_RANGE,T2M_MAX,T2M_MIN\"\n",
    "        ),\n",
    "        \"format\": \"CSV\",\n",
    "        \"theme\": \"light\",\n",
    "        \"user\": \"DAVE\"\n",
    "    },\n",
    "    {\n",
    "        \"start\": \"20000101\",\n",
    "        \"end\": \"20240610\",\n",
    "        \"latitude\": 21.0028,\n",
    "        \"longitude\": 105.8463,\n",
    "        \"community\": \"AG\",\n",
    "        \"parameters\": (\n",
    "            \"ALLSKY_SFC_LW_DWN,QV2M,RH2M,PRECTOTCORR,PS,WS2M,WS2M_MAX,WS2M_MIN,WS2M_RANGE,\"\n",
    "            \"WD2M,WS10M,WS10M_MAX,WS10M_MIN,WS10M_RANGE,WD10M,GWETTOP\"\n",
    "        ),\n",
    "        \"format\": \"CSV\",\n",
    "        \"theme\": \"light\",\n",
    "        \"user\": \"DAVE\"\n",
    "    }\n",
    "]\n",
    "# Gửi các yêu cầu tới API và lưu nội dung CSV vào file\n",
    "for i, params in enumerate(params_list):\n",
    "    response = requests.get(url, params=params)\n",
    "    if response.status_code == 200:\n",
    "        with open(f'nasa_power_data_part{i+1}.csv', 'wb') as file:\n",
    "            file.write(response.content)\n",
    "        print(f\"Dữ liệu phần {i+1} đã được tải về thành công và lưu vào 'nasa_power_data_part{i+1}.csv'.\")\n",
    "    else:\n",
    "        print(f\"Tải dữ liệu phần {i+1} thất bại. Mã trạng thái: {response.status_code}, Thông báo: {response.text}\")\n"
   ]
  }
 ],
 "metadata": {
  "kernelspec": {
   "display_name": "base",
   "language": "python",
   "name": "python3"
  },
  "language_info": {
   "codemirror_mode": {
    "name": "ipython",
    "version": 3
   },
   "file_extension": ".py",
   "mimetype": "text/x-python",
   "name": "python",
   "nbconvert_exporter": "python",
   "pygments_lexer": "ipython3",
   "version": "3.11.5"
  }
 },
 "nbformat": 4,
 "nbformat_minor": 2
}
